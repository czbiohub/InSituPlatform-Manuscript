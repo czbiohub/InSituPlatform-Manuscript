{
 "cells": [
  {
   "cell_type": "markdown",
   "metadata": {},
   "source": [
    "# Figure 4\n"
   ]
  },
  {
   "cell_type": "code",
   "execution_count": 10,
   "metadata": {},
   "outputs": [],
   "source": [
    "import pandas as pd\n",
    "from matplotlib import pyplot as plt\n",
    "import numpy as np\n",
    "import seaborn as sns\n",
    "\n",
    "plt.style.use('../main_fig_style')"
   ]
  },
  {
   "cell_type": "markdown",
   "metadata": {},
   "source": [
    "**Figure 4A:** Schematic of the experiment"
   ]
  },
  {
   "cell_type": "code",
   "execution_count": 2,
   "metadata": {},
   "outputs": [
    {
     "name": "stdout",
     "output_type": "stream",
     "text": [
      "Mean CRISPRa copy number [cnts/cell]: 88.689781\n",
      "Mean WT copy number [cnts/cell]: 50.706150\n",
      "Mean CRISPRi copy number [cnts/cell]: 11.055556\n"
     ]
    },
    {
     "data": {
      "image/png": "[encoded data removed]",
      "text/plain": [
       "<Figure size 432x288 with 1 Axes>"
      ]
     },
     "metadata": {
      "needs_background": "light"
     },
     "output_type": "display_data"
    }
   ],
   "source": [
    "# Load the dataframes\n",
    "\n",
    "# WT\n",
    "df_wt_1 = pd.read_csv('./Figure4B/WT/WT_ISP-2018-11-02-09-49-00-0001_20181214.csv')\n",
    "df_wt_2 = pd.read_csv('./Figure4B/WT/WT_ISP-2018-11-02-09-49-00-0002_20181213.csv')\n",
    "\n",
    "# CRISPRi\n",
    "df_i_1 = pd.read_csv('./Figure4B/CRISPRi/CRISPRi_ISP-2018-10-31-13-28-00-0004.csv')\n",
    "df_i_2 = pd.read_csv('./Figure4B/CRISPRi/CRISPRi_ISP-2018-10-31-13-28-00-0005.csv')\n",
    "\n",
    "# CRISPRa\n",
    "df_a_1 = pd.read_csv('./Figure4B/CRISPRa/CRISPRa_ISP-2018-11-02-09-49-00-0001.csv')\n",
    "df_a_2 = pd.read_csv('./Figure4B/CRISPRa/CRISPRa_ISP-2018-11-02-09-49-00-0002.csv')\n",
    "\n",
    "# Combine the dataframes\n",
    "wt_counts = np.append(df_wt_1.n_spots.values, df_wt_2.n_spots.values)\n",
    "i_counts = np.append(df_i_1.n_spots.values, df_i_2.n_spots.values)\n",
    "a_counts =  np.append(df_a_1.n_spots.values, df_a_2.n_spots.values)\n",
    "\n",
    "# Plot\n",
    "plt.boxplot([a_counts, wt_counts, i_counts]);\n",
    "plt.ylabel('TFRC [counts/cell]');\n",
    "plt.xticks([1, 2, 3], ['CRISPRa','WT', 'CRISPRi']);\n",
    "\n",
    "print('Mean CRISPRa copy number [cnts/cell]: %f' % np.mean(a_counts))\n",
    "print('Mean WT copy number [cnts/cell]: %f' % np.mean(wt_counts))\n",
    "print('Mean CRISPRi copy number [cnts/cell]: %f' % np.mean(i_counts))"
   ]
  },
  {
   "cell_type": "code",
   "execution_count": 11,
   "metadata": {},
   "outputs": [
    {
     "data": {
      "image/png": "[encoded data removed]",
      "text/plain": [
       "<Figure size 72x108 with 1 Axes>"
      ]
     },
     "metadata": {
      "needs_background": "light"
     },
     "output_type": "display_data"
    }
   ],
   "source": [
    "counts = np.concatenate((a_counts, wt_counts, i_counts))\n",
    "\n",
    "a_labels = ['CRISPRa'] * len(a_counts)\n",
    "wt_labels = ['WT'] * len(wt_counts)\n",
    "i_labels = ['CRISPRi'] * len(i_counts)\n",
    "\n",
    "modification = a_labels + wt_labels + i_labels\n",
    "\n",
    "df = pd.DataFrame(data={'counts': counts, 'modification': modification})\n",
    "\n",
    "fig_size = (1, 1.5)\n",
    "\n",
    "fig, ax = plt.subplots()\n",
    "\n",
    "sns.violinplot(x=\"modification\", y=\"counts\", data=df, scale='count', linewidth=0.5);\n",
    "#sns.swarmplot(x=\"modification\", y=\"counts\", data=df, alpha=.45, color='black', size=1.5);\n",
    "\n",
    "ax.set_xlabel('Method');\n",
    "ax.set_ylabel('TFRC [copies/cell]');\n",
    "\n",
    "fig.tight_layout()\n",
    "fig.set_size_inches((fig_size[0], fig_size[1]))\n",
    "\n",
    "plt.savefig(\"Figure4B.pdf\", transparent=True, bbox_inches = \"tight\")"
   ]
  },
  {
   "cell_type": "markdown",
   "metadata": {},
   "source": [
    "**Figure 4B:** Distributions"
   ]
  },
  {
   "cell_type": "code",
   "execution_count": 29,
   "metadata": {},
   "outputs": [
    {
     "data": {
      "image/png": "[encoded data removed]",
      "text/plain": [
       "<Figure size 72x108 with 1 Axes>"
      ]
     },
     "metadata": {
      "needs_background": "light"
     },
     "output_type": "display_data"
    }
   ],
   "source": [
    "gfp = np.concatenate((df_i_1.gfp.values, df_i_2.gfp.values))\n",
    "\n",
    "fig_size = (1, 1.5)\n",
    "\n",
    "fig, ax = plt.subplots()\n",
    "\n",
    "ax.scatter(gfp, i_counts, s=1)\n",
    "\n",
    "ax.set_xlabel('GFP [AFU]');\n",
    "ax.set_ylabel('TFRC [copies/cell]');\n",
    "\n",
    "fig.tight_layout()\n",
    "fig.set_size_inches((fig_size[0], fig_size[1]))\n",
    "\n",
    "plt.savefig(\"Figure4C.pdf\", transparent=True, bbox_inches = \"tight\")"
   ]
  },
  {
   "cell_type": "markdown",
   "metadata": {},
   "source": [
    "**Figure 4C:** Plot of GFP vs. knockdown"
   ]
  }
 ],
 "metadata": {
  "kernelspec": {
   "display_name": "Python 3",
   "language": "python",
   "name": "python3"
  },
  "language_info": {
   "codemirror_mode": {
    "name": "ipython",
    "version": 3
   },
   "file_extension": ".py",
   "mimetype": "text/x-python",
   "name": "python",
   "nbconvert_exporter": "python",
   "pygments_lexer": "ipython3",
   "version": "3.6.4"
  }
 },
 "nbformat": 4,
 "nbformat_minor": 2
}
