{
 "cells": [
  {
   "cell_type": "markdown",
   "metadata": {},
   "source": [
    "# Figure 2\n",
    "This figure presents the design and characterization of the InSituPrep hardware and software"
   ]
  },
  {
   "cell_type": "markdown",
   "metadata": {},
   "source": [
    "**Figure 2A** Schematic of the fluidics unit"
   ]
  },
  {
   "cell_type": "markdown",
   "metadata": {},
   "source": [
    "**Figure 2B:** Timing data for the fluidics module"
   ]
  },
  {
   "cell_type": "code",
   "execution_count": 38,
   "metadata": {},
   "outputs": [
    {
     "data": {
      "image/png": "[encoded data removed]",
      "text/plain": [
       "<Figure size 72x72 with 1 Axes>"
      ]
     },
     "metadata": {
      "needs_background": "light"
     },
     "output_type": "display_data"
    }
   ],
   "source": [
    "import numpy as np\n",
    "from matplotlib import pyplot as plt\n",
    "import pandas as pd\n",
    "import seaborn as sns\n",
    "\n",
    "# Import the data\n",
    "temp_data = np.genfromtxt('./Figure2C/temperatures.txt', delimiter=\",\")\n",
    "\n",
    "\n",
    "times = []\n",
    "temps = []\n",
    "positions = []\n",
    "\n",
    "for i, t in enumerate(temp_data):\n",
    "    \n",
    "    for fc, val in enumerate(t):\n",
    "        times.append(5 * i)\n",
    "        temps.append(val)\n",
    "        positions.append(fc)\n",
    "        \n",
    "temp_df = pd.DataFrame(data={'time':times, 'position':positions, 'temp':temps})\n",
    "\n",
    "fig_size = (1, 1)\n",
    "\n",
    "fig, ax = plt.subplots(figsize=fig_size)\n",
    "sns.set_context(\"paper\", rc={\"font.size\":2,\"axes.titlesize\":5,\"axes.labelsize\":5, \"ytick.labelsize\": 5,\"xtick.labelsize\": 5})\n",
    "sns.lineplot(x='time', y='temp', ci=\"sd\", data=temp_df, ax=ax);\n",
    "\n",
    "ax.set_xlabel('Time [s]');\n",
    "ax.set_ylabel('Temperature \\n [deg. C]');\n",
    "\n",
    "plt.tight_layout()\n",
    "fig.set_size_inches(fig_size[0], fig_size[1])\n",
    "\n",
    "plt.savefig(\"Figure2C.pdf\", transparent=True, bbox_inches = \"tight\")"
   ]
  },
  {
   "cell_type": "markdown",
   "metadata": {},
   "source": [
    "**Figure 2C:** Characterization of the temperature uniformity"
   ]
  }
 ],
 "metadata": {
  "kernelspec": {
   "display_name": "Python 3",
   "language": "python",
   "name": "python3"
  },
  "language_info": {
   "codemirror_mode": {
    "name": "ipython",
    "version": 3
   },
   "file_extension": ".py",
   "mimetype": "text/x-python",
   "name": "python",
   "nbconvert_exporter": "python",
   "pygments_lexer": "ipython3",
   "version": "3.6.4"
  }
 },
 "nbformat": 4,
 "nbformat_minor": 2
}
