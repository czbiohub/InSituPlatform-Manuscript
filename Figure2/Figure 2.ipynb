{
 "cells": [
  {
   "cell_type": "markdown",
   "metadata": {},
   "source": [
    "# Figure 2\n",
    "This figure presents the design and characterization of the InSituPrep hardware and software"
   ]
  },
  {
   "cell_type": "code",
   "execution_count": 5,
   "metadata": {},
   "outputs": [],
   "source": [
    "# https://matplotlib.org/users/customizing.html\n",
    "\n",
    "import matplotlib as mpl\n",
    "mpl.rcParams['lines.linewidth'] = 0.5\n",
    "mpl.rcParams['font.size'] = 12\n",
    "\n",
    "mpl.rcParams['axes.labelsize'] = 5\n",
    "mpl.rcParams['axes.linewidth'] = 0.25\n",
    "mpl.rcParams['axes.spines.right'] = False\n",
    "mpl.rcParams['axes.spines.top'] = False\n",
    "\n",
    "\n",
    "mpl.rcParams['xtick.top'] = False\n",
    "mpl.rcParams['ytick.right'] = False\n",
    "\n",
    "mpl.rcParams['xtick.major.size'] = 1\n",
    "mpl.rcParams['xtick.major.width'] = 0.5\n",
    "mpl.rcParams['ytick.major.size'] = 1\n",
    "mpl.rcParams['ytick.major.width'] = 0.5\n",
    "\n",
    "mpl.rcParams['xtick.labelsize'] = 3\n",
    "mpl.rcParams['ytick.labelsize'] = 3\n",
    "\n",
    "mpl.rcParams['pdf.fonttype'] = 42\n",
    "mpl.rcParams['ps.fonttype'] = 42\n",
    "\n",
    "mpl.rcParams['savefig.dpi'] = 1000\n",
    "\n"
   ]
  },
  {
   "cell_type": "code",
   "execution_count": 1,
   "metadata": {},
   "outputs": [],
   "source": [
    "from matplotlib import pyplot as plt\n",
    "import numpy as np\n",
    "import pandas as pd\n",
    "import seaborn as sns\n",
    "\n",
    "plt.style.use('../main_fig_style')"
   ]
  },
  {
   "cell_type": "markdown",
   "metadata": {},
   "source": [
    "**Figure 2A** Schematic of the fluidics unit"
   ]
  },
  {
   "cell_type": "markdown",
   "metadata": {},
   "source": [
    "**Figure 2B:** Timing data for the fluidics module"
   ]
  },
  {
   "cell_type": "code",
   "execution_count": 2,
   "metadata": {},
   "outputs": [
    {
     "data": {
      "image/png": "[encoded data removed]",
      "text/plain": [
       "<Figure size 57.6x57.6 with 1 Axes>"
      ]
     },
     "metadata": {
      "needs_background": "light"
     },
     "output_type": "display_data"
    }
   ],
   "source": [
    "# Import the data\n",
    "temp_data = np.genfromtxt('./Figure2C/temperatures.txt', delimiter=\",\")\n",
    "\n",
    "\n",
    "times = []\n",
    "temps = []\n",
    "positions = []\n",
    "\n",
    "for i, t in enumerate(temp_data):\n",
    "    \n",
    "    for fc, val in enumerate(t):\n",
    "        times.append(5 * i)\n",
    "        temps.append(val)\n",
    "        positions.append(fc)\n",
    "        \n",
    "temp_df = pd.DataFrame(data={'time':times, 'position':positions, 'temp':temps})\n",
    "\n",
    "fig_size = (0.8, 0.8)\n",
    "\n",
    "fig, ax = plt.subplots(frameon=False)\n",
    "#sns.set_context(\"paper\", rc={\"font.size\":2,\"axes.titlesize\":5,\"axes.labelsize\":5, \"ytick.labelsize\": 5,\"xtick.labelsize\": 5})\n",
    "sns.lineplot(x='time', y='temp', ci=\"sd\", data=temp_df, ax=ax);\n",
    "\n",
    "ax.set_xlabel('Time [s]');\n",
    "ax.set_ylabel('Temperature \\n [deg. C]');\n",
    "\n",
    "#ax.yaxis.get_label().set_fontsize(5)\n",
    "#ax.xaxis.get_label().set_fontsize(5)\n",
    "\n",
    "\n",
    "fig.tight_layout()\n",
    "fig.set_size_inches((fig_size[0], fig_size[1]))\n",
    "\n",
    "plt.draw()\n",
    "\n",
    "plt.savefig(\"Figure2C.pdf\", transparent=True, bbox_inches = \"tight\")"
   ]
  },
  {
   "cell_type": "markdown",
   "metadata": {},
   "source": [
    "**Figure 2C:** Characterization of the temperature uniformity"
   ]
  }
 ],
 "metadata": {
  "kernelspec": {
   "display_name": "Python 3",
   "language": "python",
   "name": "python3"
  },
  "language_info": {
   "codemirror_mode": {
    "name": "ipython",
    "version": 3
   },
   "file_extension": ".py",
   "mimetype": "text/x-python",
   "name": "python",
   "nbconvert_exporter": "python",
   "pygments_lexer": "ipython3",
   "version": "3.6.4"
  }
 },
 "nbformat": 4,
 "nbformat_minor": 2
}
